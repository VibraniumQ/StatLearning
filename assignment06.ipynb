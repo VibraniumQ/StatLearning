{
 "cells": [
  {
   "cell_type": "markdown",
   "metadata": {},
   "source": [
    "# 第25、26题"
   ]
  },
  {
   "cell_type": "markdown",
   "metadata": {},
   "source": [
    "## 25. Proving $K(x,y)$ is a kernel function"
   ]
  },
  {
   "cell_type": "markdown",
   "metadata": {},
   "source": [
    "First, $(\\mathbf{x}^\\top \\mathbf{x}')^r$ is a kernel for every $r = 0,1,2,\\dots$.\n",
    "<!--- By the way, $K(\\mathbf{x},\\mathbf{x}') = 1$ is a kernel function, since its kernel matrices $\\mathbf{1}\\mathbf{1}^\\top$ are positive semidefinite.-->\n",
    "Therefore,\n",
    "\\begin{equation}\n",
    "K_r(\\mathbf{x},\\mathbf{x}') = \\sum_{j=1}^r \\frac{1}{j!}(\\mathbf{x}^\\top \\mathbf{x}')^j\n",
    "\\end{equation}\n",
    "are all kernels, and so is the limit $e^{\\mathbf{x}^\\top \\mathbf{x}'} = \\lim_{r\\rightarrow \\infty} K_r(\\mathbf{x},\\mathbf{x}')$."
   ]
  },
  {
   "cell_type": "markdown",
   "metadata": {},
   "source": [
    "More general, if $K(\\mathbf{x},\\mathbf{x}')$ is a kernel, so is $e^{K(\\mathbf{x},\\mathbf{x}')}$. Let $\\gamma = 1/\\sigma^2$. Now,\n",
    "\\begin{equation}\n",
    "e^{-\\frac{\\gamma}{2}\\|\\mathbf{x}-\\mathbf{x}'\\|^2} = e^{-\\frac{\\gamma}{2}\\|\\mathbf{x}\\|^2} e^{\\gamma \\mathbf{x}^\\top \\mathbf{x}'} e^{-\\frac{\\gamma}{2}\\|\\mathbf{x}'\\|^2}.\n",
    "\\end{equation}"
   ]
  },
  {
   "cell_type": "markdown",
   "metadata": {},
   "source": [
    "The middle is a kernel, and we apply normalization rule with $f(\\mathbf{x}) = e^{-\\frac{\\gamma}{2}\\|\\mathbf{x}\\|^2}$.\n",
    "\n",
    "Thus, the Gaussian kernel is a valid kernel function."
   ]
  },
  {
   "cell_type": "markdown",
   "metadata": {},
   "source": [
    "## 26. Calculating a linear SVM"
   ]
  },
  {
   "cell_type": "code",
   "execution_count": 1,
   "metadata": {},
   "outputs": [],
   "source": [
    "%matplotlib inline"
   ]
  },
  {
   "cell_type": "code",
   "execution_count": 2,
   "metadata": {},
   "outputs": [],
   "source": [
    "import numpy as np\n",
    "import matplotlib.pyplot as plt\n",
    "from sklearn import svm, datasets\n",
    "\n",
    "\n",
    "def make_meshgrid(x, y, h=.02):\n",
    "    x_min, x_max = x.min() - 1, x.max() + 1\n",
    "    y_min, y_max = y.min() - 1, y.max() + 1\n",
    "    xx, yy = np.meshgrid(np.arange(x_min, x_max, h),\n",
    "                         np.arange(y_min, y_max, h))\n",
    "    return xx, yy\n",
    "\n",
    "\n",
    "def plot_contours(ax, clf, xx, yy, **params):\n",
    "    Z = clf.predict(np.c_[xx.ravel(), yy.ravel()])\n",
    "    Z = Z.reshape(xx.shape)\n",
    "    out = ax.contourf(xx, yy, Z, **params)\n",
    "    return out"
   ]
  },
  {
   "cell_type": "code",
   "execution_count": 3,
   "metadata": {},
   "outputs": [],
   "source": [
    "X = np.array([[1, 2], [2, 3], [3, 3], [2, 1], [3, 2]])\n",
    "y = np.array([1, 1, 1, -1, -1])\n",
    "\n",
    "\n",
    "C = 1.0  # SVM regularization parameter\n",
    "models = (svm.SVC(kernel='linear', C=C),\n",
    "          svm.LinearSVC(C=C, max_iter=10000))\n",
    "models = (clf.fit(X, y) for clf in models)\n",
    "\n",
    "# title for the plots\n",
    "titles = ('SVC with linear kernel',\n",
    "          'LinearSVC (linear kernel)')"
   ]
  },
  {
   "cell_type": "code",
   "execution_count": 4,
   "metadata": {},
   "outputs": [
    {
     "data": {
      "image/png": "[encoded data removed]",
      "text/plain": [
       "<Figure size 432x288 with 2 Axes>"
      ]
     },
     "metadata": {},
     "output_type": "display_data"
    }
   ],
   "source": [
    "# Set-up 2x2 grid for plotting.\n",
    "fig, sub = plt.subplots(1, 2)\n",
    "plt.subplots_adjust(wspace=0.4, hspace=0.4)\n",
    "\n",
    "X0, X1 = X[:, 0], X[:, 1]\n",
    "xx, yy = make_meshgrid(X0, X1)\n",
    "\n",
    "for clf, title, ax in zip(models, titles, sub.flatten()):\n",
    "    plot_contours(ax, clf, xx, yy,\n",
    "                  cmap=plt.cm.coolwarm, alpha=0.8)\n",
    "    ax.scatter(X0, X1, c=y, cmap=plt.cm.coolwarm, s=20, edgecolors='k')\n",
    "    ax.set_xlim(xx.min(), xx.max())\n",
    "    ax.set_ylim(yy.min(), yy.max())\n",
    "    ax.set_xlabel(r'$x_1$')\n",
    "    ax.set_ylabel(r'$x_2$')\n",
    "    ax.set_xticks(())\n",
    "    ax.set_yticks(())\n",
    "    ax.set_title(title)\n",
    "\n",
    "plt.show()"
   ]
  }
 ],
 "metadata": {
  "kernelspec": {
   "display_name": "Python 3",
   "language": "python",
   "name": "python3"
  },
  "language_info": {
   "codemirror_mode": {
    "name": "ipython",
    "version": 3
   },
   "file_extension": ".py",
   "mimetype": "text/x-python",
   "name": "python",
   "nbconvert_exporter": "python",
   "pygments_lexer": "ipython3",
   "version": "3.8.6"
  }
 },
 "nbformat": 4,
 "nbformat_minor": 1
}
