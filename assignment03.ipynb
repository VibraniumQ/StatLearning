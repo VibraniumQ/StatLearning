{
 "cells": [
  {
   "cell_type": "markdown",
   "metadata": {},
   "source": [
    "# 第7、8、12、13题"
   ]
  },
  {
   "cell_type": "markdown",
   "metadata": {},
   "source": [
    "## 7. Find the Corresponding Equivalent Kernel Function"
   ]
  },
  {
   "cell_type": "markdown",
   "metadata": {},
   "source": [
    "According to the definition of kernel function, we know that\n",
    "\\begin{equation}\n",
    "K(\\mathbf{x},\\mathbf{z}) = \\phi(\\mathbf{x})\\cdot\\phi(\\mathbf{z}) = 1\\cdot 1 = 1.\n",
    "\\end{equation}"
   ]
  },
  {
   "cell_type": "markdown",
   "metadata": {},
   "source": [
    "## 8. Weighted Least Squares Problem"
   ]
  },
  {
   "cell_type": "markdown",
   "metadata": {},
   "source": [
    "We define diagonal matrix $\\mathbf{R}$ that satisfies $R_{ii} = r_i$\n",
    "Suppose we have the linear model as follows\n",
    "\\begin{equation}\n",
    "\\mathbf{y} = \\mathbf{w}^\\top\\mathbf{x} + \\varepsilon\n",
    "\\end{equation}\n",
    "where $\\text{var}(\\varepsilon) = \\mathbf{R}^{-1} \\sigma^2$.\n",
    "\n",
    "Let $\\tilde{\\mathbf{R}}$ be a diagonal matrix with diagonal entries equal to $\\sqrt{R_{ii}}$. Then we have\n",
    "\\begin{equation}\n",
    "\\text{var}(\\tilde{\\mathbf{R}}\\varepsilon) =\\sigma^2 \\mathbf{I}.\n",
    "\\end{equation}"
   ]
  },
  {
   "cell_type": "markdown",
   "metadata": {},
   "source": [
    "Now we define $\\tilde{\\mathbf{y}} = \\tilde{\\mathbf{R}}\\mathbf{y}$, $\\tilde{\\mathbf{x}} = \\tilde{\\mathbf{R}}\\mathbf{x}$, $\\tilde{\\varepsilon} = \\tilde{\\mathbf{R}}\\varepsilon$, which leads to least squares model\n",
    "\\begin{equation}\n",
    "\\tilde{\\mathbf{y}} = \\mathbf{w}^\\top\\tilde{\\mathbf{x}} + \\tilde{\\varepsilon}\n",
    "\\end{equation}"
   ]
  },
  {
   "cell_type": "markdown",
   "metadata": {},
   "source": [
    "Using the results from regular least squares, we obtain\n",
    "\\begin{equation}\n",
    "\\hat{\\mathbf{w}} = ({\\tilde{\\mathbf{x}}}^\\top\\tilde{\\mathbf{x}})^{-1}\\tilde{\\mathbf{x}}^\\top \\tilde{\\mathbf{y}}\n",
    "= ({\\tilde{\\mathbf{x}}}^\\top\\mathbf{R}\\tilde{\\mathbf{x}})^{-1}\\tilde{\\mathbf{x}}^\\top \\mathbf{R}\\tilde{\\mathbf{y}}\n",
    "\\end{equation}"
   ]
  },
  {
   "cell_type": "markdown",
   "metadata": {},
   "source": [
    "## 12. Equivalent Optimization Problems"
   ]
  },
  {
   "cell_type": "markdown",
   "metadata": {},
   "source": [
    "We know that\n",
    "\\begin{align}\n",
    "\\mathbf{J}_{1} (\\mathbf{x}) &= \\|\\mathbf{y} - \\mathbf{A}\\mathbf{x}\\|_2^2 + \\lambda_1 \\|\\mathbf{x}\\|_1 + \\lambda_2 \\|\\mathbf{x}\\|_2^2\\\\\n",
    "&= \\mathbf{y}^\\top\\mathbf{y} - 2\\mathbf{x}^\\top \\mathbf{A}^\\top\\mathbf{y} + \\mathbf{x}^\\top \\mathbf{A}^\\top\\mathbf{A}\\mathbf{x} + \\lambda_1 \\|\\mathbf{x}\\|_1 + \\lambda_2 \\mathbf{x}^\\top\\mathbf{x}\\\\\n",
    "&=\\mathbf{y}^\\top\\mathbf{y} - 2\\mathbf{x}^\\top \\mathbf{A}^\\top\\mathbf{y} + \\mathbf{x}^\\top (\\mathbf{A}^\\top\\mathbf{A}+\\lambda_2 \\mathbf{I})\\mathbf{x} + \\lambda_1 \\|\\mathbf{x}\\|_1 .\n",
    "\\end{align}"
   ]
  },
  {
   "cell_type": "markdown",
   "metadata": {},
   "source": [
    "Obviously, $\\mathbf{A}^\\top\\mathbf{A}+\\lambda_2 \\mathbf{I}$ is positive definite, thus we have\n",
    "\\begin{equation}\n",
    "\\exists\\, \\tilde{\\mathbf{A}}\\quad s.t.\\quad  \\tilde{\\mathbf{A}}^\\top\\tilde{\\mathbf{A}} = \\mathbf{A}^\\top\\mathbf{A}+\\lambda_2 \\mathbf{I}.\n",
    "\\end{equation}"
   ]
  },
  {
   "cell_type": "markdown",
   "metadata": {},
   "source": [
    "Then we define $\\tilde{\\mathbf{y}}$ that satisfies the equation\n",
    "\\begin{equation}\n",
    "\\mathbf{A}^\\top \\mathbf{y} = \\tilde{\\mathbf{A}}^\\top \\tilde{\\mathbf{y}}\n",
    "\\end{equation}"
   ]
  },
  {
   "cell_type": "markdown",
   "metadata": {},
   "source": [
    "If we take $\\tilde{\\mathbf{A}}$ and $\\tilde{\\mathbf{y}}$ back into the expression of $\\mathbf{J}_{1}$, we obtain\n",
    "\\begin{align}\n",
    "\\mathbf{J}_{1} (\\mathbf{x}) &=\\mathbf{y}^\\top\\mathbf{y} - 2\\mathbf{x}^\\top \\mathbf{A}^\\top\\mathbf{y} + \\mathbf{x}^\\top (\\mathbf{A}^\\top\\mathbf{A}+\\lambda_2 \\mathbf{I})\\mathbf{x} + \\lambda_1 \\|\\mathbf{x}\\|_1 \\\\\n",
    "&=\\tilde{\\mathbf{y}}^\\top \\tilde{\\mathbf{y}}- 2\\mathbf{x}^\\top \\tilde{\\mathbf{A}}^\\top \\tilde{\\mathbf{y}} + \\mathbf{x}^\\top \\tilde{\\mathbf{A}}^\\top\\tilde{\\mathbf{A}}\\mathbf{x} + \\lambda_1 \\|\\mathbf{x}\\|_1 + \\mathbf{y}^\\top\\mathbf{y} - \\tilde{\\mathbf{y}}^\\top \\tilde{\\mathbf{y}}\\\\\n",
    "&= \\|\\tilde{\\mathbf{y}} - \\tilde{\\mathbf{A}}\\mathbf{x}\\|_2^2 + \\lambda_1 \\|\\mathbf{x}\\|_1 + \\mathbf{y}^\\top\\mathbf{y}- \\tilde{\\mathbf{y}}^\\top \\tilde{\\mathbf{y}}.\n",
    "\\end{align}"
   ]
  },
  {
   "cell_type": "markdown",
   "metadata": {},
   "source": [
    "Given $\\mathbf{y}$ and $\\mathbf{A}$, $\\tilde{\\mathbf{y}}$ is known and we have\n",
    "\\begin{align}\n",
    "&\\min\\mathbf{J}_{1} (\\mathbf{x}) = \\|\\mathbf{y} - \\mathbf{A}\\mathbf{x}\\|_2^2 + \\lambda_1 \\|\\mathbf{x}\\|_1 + \\lambda_2 \\|\\mathbf{x}\\|_2^2\\\\\n",
    "\\Longleftrightarrow&\\min \\mathbf{J}_{1}(\\mathbf{x}) = \\|\\tilde{\\mathbf{y}} - \\tilde{\\mathbf{A}}\\mathbf{x}\\|_2^2 + \\lambda_1 \\|\\mathbf{x}\\|_1 + \\mathbf{y}^\\top\\mathbf{y}- \\tilde{\\mathbf{y}}^\\top \\tilde{\\mathbf{y}}\\\\\n",
    "\\Longleftrightarrow&\\min \\mathbf{J}_{1}^\\prime(\\mathbf{x}) = \\|\\tilde{\\mathbf{y}} - \\tilde{\\mathbf{A}}\\mathbf{x}\\|_2^2 + \\lambda_1 \\|\\mathbf{x}\\|_1\\\\\n",
    "\\Longleftrightarrow&\\min \\mathbf{J}_{2}(\\mathbf{x}) = \\|\\tilde{\\mathbf{y}} - \\tilde{\\mathbf{A}}\\mathbf{x}\\|_2^2 + c\\lambda_1 \\|\\mathbf{x}\\|_1\n",
    "\\end{align}\n",
    "where $c=1$."
   ]
  },
  {
   "cell_type": "markdown",
   "metadata": {},
   "source": [
    "## 13. Calculate the Posterior "
   ]
  },
  {
   "cell_type": "markdown",
   "metadata": {},
   "source": [
    "\\begin{align}\n",
    "p(w|y,x) &= \\frac{p(w|x)p(y|x,w)}{p(y|x)}\\\\\n",
    "&= \\frac{p(w|x)p(y|x,w)}{\\int_w p(y|x,w)p(w)}\\\\\n",
    "&= \\frac{\\mathcal{N}(w|\\mu, \\sigma_w^2)\\mathcal{N}(y|wx, \\sigma_e^2)}{\\int_w \\mathcal{N}(w|\\mu, \\sigma_w^2)\\mathcal{N}(y|wx, \\sigma_e^2)}\n",
    "\\end{align}"
   ]
  }
 ],
 "metadata": {
  "kernelspec": {
   "display_name": "Python 3",
   "language": "python",
   "name": "python3"
  },
  "language_info": {
   "codemirror_mode": {
    "name": "ipython",
    "version": 3
   },
   "file_extension": ".py",
   "mimetype": "text/x-python",
   "name": "python",
   "nbconvert_exporter": "python",
   "pygments_lexer": "ipython3",
   "version": "3.8.6"
  }
 },
 "nbformat": 4,
 "nbformat_minor": 4
}
