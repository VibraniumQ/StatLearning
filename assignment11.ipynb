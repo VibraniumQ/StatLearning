{
 "cells": [
  {
   "cell_type": "markdown",
   "metadata": {},
   "source": [
    "# 第39题"
   ]
  },
  {
   "cell_type": "markdown",
   "metadata": {},
   "source": [
    "## 39.  Naive Bayes Algorithm"
   ]
  },
  {
   "cell_type": "code",
   "execution_count": 1,
   "metadata": {},
   "outputs": [],
   "source": [
    "import numpy as np\n",
    "\n",
    "# Raw Data\n",
    "x_1 = [1,1,1,1,1,2,2,2,2,2,3]\n",
    "x_2 = ['S','M','M','S','S','S','M','M','L','L','L']\n",
    "y = [-1,-1,1,1,-1,-1,-1,1,1,1,1]\n",
    "\n",
    "mp_x2 = {'S':1,'M':2,'L':3}\n",
    "x_2 = [mp_x2[itm] for itm in x_2]"
   ]
  },
  {
   "cell_type": "code",
   "execution_count": 2,
   "metadata": {},
   "outputs": [
    {
     "name": "stdout",
     "output_type": "stream",
     "text": [
      "P(Y=1) = 0.5454545454545454\n",
      "P(Y=-1) = 0.45454545454545453\n",
      "P(X_1=1|Y=1) = 0.3333333333333333\n",
      "P(X_1=2|Y=1) = 0.5\n",
      "P(X_1=3|Y=1) = 0.16666666666666666\n",
      "P(X_1=1|Y=-1) = 0.6\n",
      "P(X_1=2|Y=-1) = 0.4\n",
      "P(X_1=3|Y=-1) = 0.0\n",
      "P(X_1=1|Y=1) = 0.16666666666666666\n",
      "P(X_1=2|Y=1) = 0.3333333333333333\n",
      "P(X_1=3|Y=1) = 0.5\n",
      "P(X_1=1|Y=-1) = 0.6\n",
      "P(X_1=2|Y=-1) = 0.4\n",
      "P(X_1=3|Y=-1) = 0.0\n"
     ]
    }
   ],
   "source": [
    "pr_y = dict()\n",
    "pr_x1_y = dict()\n",
    "pr_x2_y = dict()\n",
    "\n",
    "x_1 = np.array(x_1)\n",
    "x_2 = np.array(x_2)\n",
    "for itm in set(y):\n",
    "    pr_y[itm] = np.sum(np.equal(y,itm))/len(y)\n",
    "    print(\"P(Y={}) = {}\".format(itm,pr_y[itm]))\n",
    "\n",
    "for itm1 in set(y):\n",
    "    for itm2 in set(x_1):\n",
    "        p = np.sum(np.equal(x_1[np.equal(y,itm1)],itm2))/np.sum(np.equal(y,itm1))\n",
    "        print(\"P(X_1={}|Y={}) = {}\".format(itm2,itm1,p))\n",
    "        pr_x1_y[(itm2,itm1)] = p\n",
    "        \n",
    "for itm1 in set(y):\n",
    "    for itm2 in set(x_2):\n",
    "        p = np.sum(np.equal(x_2[np.equal(y,itm1)],itm2))/np.sum(np.equal(y,itm1))\n",
    "        print(\"P(X_1={}|Y={}) = {}\".format(itm2,itm1,p))\n",
    "        pr_x2_y[(itm2,itm1)] = p"
   ]
  },
  {
   "cell_type": "code",
   "execution_count": 3,
   "metadata": {},
   "outputs": [],
   "source": [
    "def predict(x_1,x_2,pr_y,pr_x1_y,pr_x2_y):\n",
    "    p_Pos = pr_y[1]*pr_x1_y[(x_1,1)]*pr_x2_y[(x_2,1)]\n",
    "    p_Neg = pr_y[-1]*pr_x1_y[(x_1,-1)]*pr_x2_y[(x_2,-1)]\n",
    "    if p_Pos >= p_Neg:\n",
    "        return 1\n",
    "    else:\n",
    "        return -1"
   ]
  },
  {
   "cell_type": "code",
   "execution_count": 4,
   "metadata": {},
   "outputs": [
    {
     "name": "stdout",
     "output_type": "stream",
     "text": [
      "y = -1\n"
     ]
    }
   ],
   "source": [
    "print(\"y =\",predict(1,2,pr_y,pr_x1_y,pr_x2_y))"
   ]
  }
 ],
 "metadata": {
  "kernelspec": {
   "display_name": "Python 3",
   "language": "python",
   "name": "python3"
  },
  "language_info": {
   "codemirror_mode": {
    "name": "ipython",
    "version": 3
   },
   "file_extension": ".py",
   "mimetype": "text/x-python",
   "name": "python",
   "nbconvert_exporter": "python",
   "pygments_lexer": "ipython3",
   "version": "3.8.6"
  }
 },
 "nbformat": 4,
 "nbformat_minor": 4
}
