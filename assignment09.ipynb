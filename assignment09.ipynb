{
 "cells": [
  {
   "cell_type": "markdown",
   "metadata": {},
   "source": [
    "# 第32、33题"
   ]
  },
  {
   "cell_type": "markdown",
   "metadata": {},
   "source": [
    "## 32. Two-Gaussian-Mixture Distribution"
   ]
  },
  {
   "cell_type": "code",
   "execution_count": 1,
   "metadata": {},
   "outputs": [
    {
     "name": "stdout",
     "output_type": "stream",
     "text": [
      "Means: [[ 32.98489643]\n",
      " [-57.51107027]]\n",
      "Weights: [0.86682762 0.13317238]\n"
     ]
    },
    {
     "data": {
      "image/png": "[encoded data removed]",
      "text/plain": [
       "<Figure size 432x288 with 1 Axes>"
      ]
     },
     "metadata": {
      "needs_background": "light"
     },
     "output_type": "display_data"
    }
   ],
   "source": [
    "import numpy as np\n",
    "import matplotlib.pyplot as plt\n",
    "from sklearn import mixture\n",
    "\n",
    "data = np.array([[-67, -48, 6, 8, 14, 16, 23, 24, 28, 29, 41, 49, 56, 60, 75]]).T\n",
    "X_train = data\n",
    "\n",
    "# fit a Gaussian Mixture Model with two components\n",
    "clf = mixture.GaussianMixture(n_components=2, covariance_type='full')\n",
    "clf.fit(X_train)\n",
    "\n",
    "x = np.linspace(-100., 100.)\n",
    "x = np.array([x]).T\n",
    "log_y = clf.score_samples(x)\n",
    "y = np.exp(log_y)\n",
    "print(\"Means:\", clf.means_)\n",
    "print(\"Weights:\", clf.weights_)\n",
    "\n",
    "fig, ax = plt.subplots()\n",
    "ax.plot(x, y)\n",
    "fig.savefig(\"test.png\")\n",
    "plt.show()"
   ]
  },
  {
   "cell_type": "markdown",
   "metadata": {},
   "source": [
    "**两个高斯分布的均值分别为32.98和-57.51，权重分别为0.87和0.13**"
   ]
  },
  {
   "cell_type": "markdown",
   "metadata": {},
   "source": [
    "## 33. Volumes of Hypersphere and Hypercube"
   ]
  },
  {
   "cell_type": "markdown",
   "metadata": {},
   "source": [
    "The volume of the hypersphere in the D-dimensional space is\n",
    "\\begin{equation}\n",
    "V_s = \\frac{\\pi^{D/2}}{\\Gamma(\\frac{D}{2}+1)}r^D.\n",
    "\\end{equation}"
   ]
  },
  {
   "cell_type": "markdown",
   "metadata": {},
   "source": [
    "The volume of the hypercube in the D-dimensional space is\n",
    "\\begin{equation}\n",
    "V_c = 2^D r^D\n",
    "\\end{equation}"
   ]
  },
  {
   "cell_type": "markdown",
   "metadata": {},
   "source": [
    "The ratio between the two volumes is\n",
    "\\begin{equation}\n",
    "\\frac{V_s}{V_c} = \\frac{\\pi^{D/2}}{2^D\\Gamma(\\frac{D}{2}+1)}\n",
    "\\end{equation}"
   ]
  },
  {
   "cell_type": "markdown",
   "metadata": {},
   "source": [
    "Obviously, we have\n",
    "\\begin{equation}\n",
    "\\frac{V_s}{V_c} = \\frac{\\pi^{D/2}}{2^D\\Gamma(\\frac{D}{2}+1)} = (\\frac{\\pi}{4})^{D/2}\\frac{1}{\\Gamma(\\frac{D}{2}+1)}\n",
    "\\end{equation}"
   ]
  },
  {
   "cell_type": "markdown",
   "metadata": {},
   "source": [
    "Thus,\n",
    "\\begin{equation}\n",
    "\\frac{V_s}{V_c} \\rightarrow 0 \\quad as \\quad D \\rightarrow 0\n",
    "\\end{equation}"
   ]
  }
 ],
 "metadata": {
  "kernelspec": {
   "display_name": "Python 3",
   "language": "python",
   "name": "python3"
  },
  "language_info": {
   "codemirror_mode": {
    "name": "ipython",
    "version": 3
   },
   "file_extension": ".py",
   "mimetype": "text/x-python",
   "name": "python",
   "nbconvert_exporter": "python",
   "pygments_lexer": "ipython3",
   "version": "3.8.6"
  }
 },
 "nbformat": 4,
 "nbformat_minor": 1
}
