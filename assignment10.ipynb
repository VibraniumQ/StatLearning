{
 "cells": [
  {
   "cell_type": "markdown",
   "metadata": {},
   "source": [
    "# 第34、35题"
   ]
  },
  {
   "cell_type": "markdown",
   "metadata": {},
   "source": [
    "## 34. PageRank Algorithm"
   ]
  },
  {
   "cell_type": "code",
   "execution_count": 1,
   "metadata": {},
   "outputs": [],
   "source": [
    "import numpy as np\n",
    "\n",
    "# Transitions\n",
    "M = np.matrix([[1.0, 0.5, 0.0], [0.0, 0.0, 0.5], [0.0, 0.5, 0.5]])\n",
    "\n",
    "# Initialization\n",
    "R = np.matrix([[1/3],[1/3],[1/3]])\n",
    "\n",
    "\n",
    "def pagerank(R, dampFac):\n",
    "    # Damping Factor\n",
    "    d = dampFac\n",
    "    R_ = np.matrix([[0],[0],[0]])\n",
    "    one = np.matrix([[1],[1],[1]])\n",
    "    while np.linalg.norm(R - R_)>1e-4:\n",
    "        R_ = R\n",
    "        R = d * np.matmul(M, R) + (1-d)/3 * one\n",
    "    return R\n",
    "    "
   ]
  },
  {
   "cell_type": "code",
   "execution_count": 2,
   "metadata": {},
   "outputs": [
    {
     "name": "stdout",
     "output_type": "stream",
     "text": [
      "When damping factor is 0.85, the ranks of these nodes is\n",
      "[[0.69242531]\n",
      " [0.12683109]\n",
      " [0.18074361]].\n",
      "When damping factor is 1, the ranks of these nodes is\n",
      "[[9.99693217e-01]\n",
      " [1.17180835e-04]\n",
      " [1.89602574e-04]].\n"
     ]
    }
   ],
   "source": [
    "R1 = pagerank(R,0.85)\n",
    "print(\"When damping factor is {}, the ranks of these nodes is\\n{}.\".format(0.85,R1))\n",
    "R2 = pagerank(R,1)\n",
    "print(\"When damping factor is {}, the ranks of these nodes is\\n{}.\".format(1,R2))"
   ]
  },
  {
   "cell_type": "markdown",
   "metadata": {},
   "source": [
    "## 35. AdaBoost Algorithm"
   ]
  },
  {
   "cell_type": "code",
   "execution_count": 3,
   "metadata": {},
   "outputs": [],
   "source": [
    "def get_alpha(error):\n",
    "    return 1/2*np.log((1-error)/error)"
   ]
  },
  {
   "cell_type": "markdown",
   "metadata": {},
   "source": [
    "第一个基本分类器设定如下时，误差率最低\n",
    "\\begin{equation}\n",
    "G_1(x_1) = \n",
    "\\begin{cases}\n",
    "-1&,x_1 = 1\\\\\n",
    "1&,x_1 = 2\\\\\n",
    "1&,x_1 = 3\\\\\n",
    "\\end{cases}\n",
    "\\end{equation}"
   ]
  },
  {
   "cell_type": "markdown",
   "metadata": {},
   "source": [
    "\n"
   ]
  },
  {
   "cell_type": "code",
   "execution_count": 4,
   "metadata": {},
   "outputs": [
    {
     "name": "stdout",
     "output_type": "stream",
     "text": [
      "第一个基本分类器的系数： 0.27980789396771133\n",
      "新的权值分布： [0.07142857 0.07142857 0.125      0.125      0.07142857 0.125\n",
      " 0.125      0.07142857 0.07142857 0.07142857 0.07142857]\n"
     ]
    }
   ],
   "source": [
    "ground_truth = np.array([-1, -1, 1, 1, -1, -1, -1, 1, 1, 1, 1])\n",
    "baseLearner1 = np.array([-1, -1, -1, -1, -1, 1, 1, 1, 1, 1, 1])\n",
    "# Number of Samples\n",
    "num_sp = 11\n",
    "w_1 = np.ones(num_sp)/num_sp\n",
    "error = np.sum(np.array(ground_truth != baseLearner1) / num_sp)\n",
    "alpha_1 = get_alpha(error)\n",
    "print(\"第一个基本分类器的系数：\",alpha_1)\n",
    "w_2 = w_1 * np.exp(-alpha_1 * ground_truth*baseLearner1)\n",
    "w_2 = w_2/sum(w_2)\n",
    "print(\"新的权值分布：\",w_2)"
   ]
  },
  {
   "cell_type": "markdown",
   "metadata": {},
   "source": [
    "第二个基本分类器设定如下时，误差率最低\n",
    "\\begin{equation}\n",
    "G_2(x_2) = \n",
    "\\begin{cases}\n",
    "-1&,x_2 = S\\\\\n",
    "-1&,x_2 = M\\\\\n",
    "1&,x_2 = L\\\\\n",
    "\\end{cases}\n",
    "\\end{equation}\n",
    "或\n",
    "\\begin{equation}\n",
    "G_2(x_2) = \n",
    "\\begin{cases}\n",
    "-1&,x_2 = S\\\\\n",
    "1&,x_2 = M\\\\\n",
    "1&,x_2 = L\\\\\n",
    "\\end{cases}\n",
    "\\end{equation}"
   ]
  },
  {
   "cell_type": "code",
   "execution_count": 5,
   "metadata": {},
   "outputs": [
    {
     "name": "stdout",
     "output_type": "stream",
     "text": [
      "第二个基本分类器的系数： 0.37360720091511057\n"
     ]
    }
   ],
   "source": [
    "baseLearner2 = np.array([-1, -1, -1, -1, -1, -1, -1, -1, 1, 1, 1])\n",
    "error = np.sum(w_2 * (baseLearner2 != ground_truth))\n",
    "alpha_2 = get_alpha(error)\n",
    "print(\"第二个基本分类器的系数：\",alpha_2)"
   ]
  },
  {
   "cell_type": "code",
   "execution_count": 6,
   "metadata": {},
   "outputs": [
    {
     "name": "stdout",
     "output_type": "stream",
     "text": [
      "[ True  True False False  True  True  True False  True  True  True]\n"
     ]
    }
   ],
   "source": [
    "predict = np.sign(alpha_1 * baseLearner1 + alpha_2 * baseLearner2)\n",
    "print(predict == ground_truth)"
   ]
  },
  {
   "cell_type": "markdown",
   "metadata": {},
   "source": [
    "最终分类器为\n",
    "\\begin{equation}\n",
    "G(x_1,x_2) = \\text{sign}[0.2798 G_1(x_1) + 0.3736 G_2(x_2)]\n",
    "\\end{equation}"
   ]
  }
 ],
 "metadata": {
  "kernelspec": {
   "display_name": "Python 3",
   "language": "python",
   "name": "python3"
  },
  "language_info": {
   "codemirror_mode": {
    "name": "ipython",
    "version": 3
   },
   "file_extension": ".py",
   "mimetype": "text/x-python",
   "name": "python",
   "nbconvert_exporter": "python",
   "pygments_lexer": "ipython3",
   "version": "3.8.6"
  }
 },
 "nbformat": 4,
 "nbformat_minor": 1
}
