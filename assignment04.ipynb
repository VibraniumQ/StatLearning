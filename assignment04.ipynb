{
 "cells": [
  {
   "cell_type": "markdown",
   "metadata": {},
   "source": [
    "# 第16、18、20题"
   ]
  },
  {
   "cell_type": "markdown",
   "metadata": {},
   "source": [
    "## 16. Calculate the Differential Entropy"
   ]
  },
  {
   "cell_type": "markdown",
   "metadata": {},
   "source": [
    "The probability density function of $X$ is\n",
    "\\begin{equation}\n",
    "\\phi_X(x) = \\frac{1}{\\sqrt{2\\pi}\\sigma}e^{-x^2/2\\sigma^2}\n",
    "\\end{equation}\n",
    "The differential entropy of Gaussian random variable is\n",
    "\\begin{align}\n",
    "h(\\phi) &= -\\int \\phi\\ln\\phi\\\\\n",
    "&= -\\int \\phi\\left[- \\frac{(x-\\mu)^2}{2\\sigma^2} - \\ln \\sqrt{2\\pi}\\sigma\\right]\\\\\n",
    "&= \\frac{1}{2}\\ln 2\\pi \\sigma^2 + \\frac{1}{2\\sigma^2}\\mathbb{E}_{x\\sim\\phi(x)}\\left[(X-\\mu)^2\\right]\\\\\n",
    "&= \\frac{1}{2}\\ln 2\\pi \\sigma^2 + \\frac{\\sigma^2}{2\\sigma^2}\\\\\n",
    "&= \\frac{1}{2}\\left(\\ln 2\\pi \\sigma^2+1\\right)\n",
    "\\end{align}"
   ]
  },
  {
   "cell_type": "markdown",
   "metadata": {},
   "source": [
    "## 18. Log-normal Distribution Belong to the Exponential Family"
   ]
  },
  {
   "cell_type": "markdown",
   "metadata": {},
   "source": [
    "Let $X$ be a continuous random variable with given PDF\n",
    "\\begin{equation}\n",
    "f_X(x|\\mu,\\sigma^2) = \\frac{1}{\\sqrt{2\\pi}\\sigma x}\\exp\\left(-\\frac{(\\ln x -\\mu)^2}{2\\sigma^2}\\right)\n",
    "\\end{equation}"
   ]
  },
  {
   "cell_type": "markdown",
   "metadata": {},
   "source": [
    "Take the logrithm of of both sides\n",
    "\\begin{align}\n",
    "\\log f_X(x) &= \\log\\left(\\frac{1}{\\sqrt{2\\pi}\\sigma x}\\exp\\left(-\\frac{(\\ln x -\\mu)^2}{2\\sigma^2}\\right)\\right)\\\\\n",
    "&= -\\frac{1}{2}\\log(2\\pi \\sigma^2) - \\log x -\\frac{1}{2\\sigma^2}\\left((\\log x)^2 - 2\\mu\\log x +\\mu^2\\right)\\\\\n",
    "&= -\\frac{1}{2}\\log(2\\pi \\sigma^2) - \\frac{\\mu}{2\\sigma^2} +\\left(\\frac{\\mu}{\\sigma^2}-1\\right)\\log x -\\frac{(\\log x)^2}{2\\sigma^2}\\\\\n",
    "\\end{align}"
   ]
  },
  {
   "cell_type": "markdown",
   "metadata": {},
   "source": [
    "Then we obtain\n",
    "\\begin{align}\n",
    "f_X(x|\\mu,\\sigma^2) &= \\exp\\left( -\\frac{1}{2}\\log(2\\pi \\sigma^2) - \\frac{\\mu}{2\\sigma^2} +\\left(\\frac{\\mu}{\\sigma^2}-1\\right)\\log x -\\frac{(\\log x)^2}{2\\sigma^2} \\right)\\\\\n",
    "&=\\frac{\\exp\\left(- \\frac{\\mu}{2\\sigma^2}\\right)}{\\sqrt{2\\pi}\\sigma} \\cdot\\exp\\left(\\left(\\frac{\\mu}{\\sigma^2}-1\\right)\\log x -\\frac{1}{2\\sigma^2}(\\log x)^2\\right)\n",
    "\\end{align}"
   ]
  },
  {
   "cell_type": "markdown",
   "metadata": {},
   "source": [
    "Since we have the form\n",
    "\\begin{equation}\n",
    "p(x|\\theta) = h(x)g(\\theta)\\exp(\\theta^\\top \\phi(x)),\n",
    "\\end{equation}"
   ]
  },
  {
   "cell_type": "markdown",
   "metadata": {},
   "source": [
    "then we know\n",
    "\\begin{equation}\n",
    "h(x) \\equiv 1, \\quad g(\\theta) = \\frac{\\exp\\left(- \\frac{\\mu}{2\\sigma^2}\\right)}{\\sqrt{2\\pi}\\sigma}, \\quad \\theta = \n",
    "\\begin{bmatrix}\n",
    "\\frac{\\mu}{\\sigma^2}-1, \\frac{1}{2\\sigma^2}\n",
    "\\end{bmatrix}^\\top,\\quad\n",
    "\\phi(x) = \n",
    "\\begin{bmatrix}\n",
    "\\log x, (\\log x)^2\n",
    "\\end{bmatrix}^\\top.\n",
    "\\end{equation}"
   ]
  },
  {
   "cell_type": "markdown",
   "metadata": {},
   "source": [
    "## 20. Maximum Entropy"
   ]
  },
  {
   "cell_type": "markdown",
   "metadata": {},
   "source": [
    "By symmetry, we obtain\n",
    "\\begin{equation}\n",
    "P(x) = \\frac{1}{N},\\quad \\text{ for all } x = 1,2,\\dots,N.\n",
    "\\end{equation}"
   ]
  }
 ],
 "metadata": {
  "kernelspec": {
   "display_name": "Python 3",
   "language": "python",
   "name": "python3"
  },
  "language_info": {
   "codemirror_mode": {
    "name": "ipython",
    "version": 3
   },
   "file_extension": ".py",
   "mimetype": "text/x-python",
   "name": "python",
   "nbconvert_exporter": "python",
   "pygments_lexer": "ipython3",
   "version": "3.8.6"
  }
 },
 "nbformat": 4,
 "nbformat_minor": 4
}
