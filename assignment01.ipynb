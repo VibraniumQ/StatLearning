{
 "cells": [
  {
   "cell_type": "markdown",
   "metadata": {},
   "source": [
    "# 第2、3、5、6题"
   ]
  },
  {
   "cell_type": "markdown",
   "metadata": {},
   "source": [
    "# 2. Install Anaconda and OpenCV-Python\n",
    "\n",
    "1. Download the Anaconda installer.\n",
    "2. Double click the installer to launch.\n",
    "3. Follow the instructions to install Anaconda.\n",
    "4. Execute `conda create -n statl python=3.7`\n",
    "5. Execute `conda activate statl`\n",
    "6. Execute `conda install opencv-python`"
   ]
  },
  {
   "cell_type": "markdown",
   "metadata": {},
   "source": [
    "# 3. Prove that the Mean, Median, and Mode of a Gaussian Random Variable are Equal.\n",
    "We assume that $X$ is a Gaussian random variable with **mean** $\\mu$ and variance $\\sigma^2$, which means that it has a PDF of the form\n",
    "$$\n",
    "f_X(x) = \\frac{1}{\\sqrt{2\\pi}\\sigma}e^{-(x - \\mu)/2\\sigma^2}.\n",
    "$$"
   ]
  },
  {
   "cell_type": "markdown",
   "metadata": {},
   "source": [
    "The PDF of $X$ has an axis of symmetry $x = \\mu$, so the **median** of the random variable $X$ is $\\mu$.\n",
    "Obviously, the PDF of $X$ is concave, and we also know that\n",
    "$$\n",
    "\\frac{\\text{d} f_X}{\\text{d}x} = 0 \\Longrightarrow x = \\mu.\n",
    "$$\n",
    "\n",
    "Thus, the **mode** of the random variable $X$ is $\\mu$.\n",
    "\n",
    "The proof is complete."
   ]
  },
  {
   "cell_type": "markdown",
   "metadata": {},
   "source": [
    "#  5. Calculate the Mean and Variance of the Random Numbers."
   ]
  },
  {
   "cell_type": "code",
   "execution_count": 1,
   "metadata": {},
   "outputs": [
    {
     "name": "stdout",
     "output_type": "stream",
     "text": [
      "Mean: 12.00, Varience: 4.00\n"
     ]
    }
   ],
   "source": [
    "import numpy as np\n",
    "mu = 12\n",
    "sigma = 2\n",
    "np.random.seed(0)\n",
    "# print(\"The Mean of the random variable is %.2f,and the varience of the random variable is %.2f\" % (mu, sigma))\n",
    "print(\"Mean: %.2f, Varience: %.2f\" % (mu, sigma**2))"
   ]
  },
  {
   "cell_type": "code",
   "execution_count": 2,
   "metadata": {},
   "outputs": [
    {
     "name": "stdout",
     "output_type": "stream",
     "text": [
      "Number of Samples:      100, Mean: 12.12(+0.12), Varience:  4.06(+0.06)\n",
      "Number of Samples:     1000, Mean: 11.90(-0.10), Varience:  3.82(-0.18)\n",
      "Number of Samples:    10000, Mean: 11.98(-0.02), Varience:  3.92(-0.08)\n",
      "Number of Samples:   100000, Mean: 12.01(+0.01), Varience:  3.99(-0.01)\n",
      "Number of Samples:  1000000, Mean: 12.00(+0.00), Varience:  4.00(-0.00)\n"
     ]
    }
   ],
   "source": [
    "for i in range(2,7):\n",
    "    sp_num = 10**i\n",
    "    samples = np.random.normal(mu, sigma, sp_num)\n",
    "    print(\"Number of Samples: %8d, Mean: %5.2f(%+3.2f), Varience: %5.2f(%+3.2f)\"%(sp_num, np.mean(samples), np.mean(samples)-mu, np.var(samples), np.var(samples) - sigma**2))"
   ]
  },
  {
   "cell_type": "markdown",
   "metadata": {},
   "source": [
    "# 6. Corresponding Mnimization Problem\n",
    "If we use $\\hat{y} = \\sqrt[N]{\\prod_i y_i}$ to estimate a variable, the corresponding minimization problem is\n",
    "$$\n",
    "\\min_y \\sum_i (\\ln y_i - \\ln y)^2\n",
    "$$"
   ]
  }
 ],
 "metadata": {
  "kernelspec": {
   "display_name": "Python 3",
   "language": "python",
   "name": "python3"
  },
  "language_info": {
   "codemirror_mode": {
    "name": "ipython",
    "version": 3
   },
   "file_extension": ".py",
   "mimetype": "text/x-python",
   "name": "python",
   "nbconvert_exporter": "python",
   "pygments_lexer": "ipython3",
   "version": "3.8.6"
  }
 },
 "nbformat": 4,
 "nbformat_minor": 4
}
